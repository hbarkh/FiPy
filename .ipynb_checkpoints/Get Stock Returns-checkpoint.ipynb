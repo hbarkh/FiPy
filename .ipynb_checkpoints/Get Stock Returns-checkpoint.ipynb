{
 "cells": [
  {
   "cell_type": "code",
   "execution_count": 1,
   "id": "exclusive-romania",
   "metadata": {},
   "outputs": [],
   "source": [
    "import re\n",
    "import os\n",
    "import json\n",
    "import csv\n",
    "from io import StringIO\n",
    "#from bs4 import BeautifulSoup\n",
    "import requests\n",
    "import pandas as pd\n",
    "%config Completer.use_jedi = False"
   ]
  },
  {
   "cell_type": "code",
   "execution_count": 2,
   "id": "subsequent-emerald",
   "metadata": {},
   "outputs": [],
   "source": [
    "monthly_dir = \"Monthly Stock Data/\"\n",
    "os.makedirs(monthly_dir, exist_ok=True)"
   ]
  },
  {
   "cell_type": "code",
   "execution_count": null,
   "id": "painful-possible",
   "metadata": {},
   "outputs": [],
   "source": [
    "stock = 'HSU.TO'\n",
    "url = \"https://query1.finance.yahoo.com/v7/finance/download/{}\"\n",
    "\n",
    "\n",
    "params = {\n",
    "    \n",
    "    'range': 'max', #max\n",
    "    'interval':'1mo',\n",
    "    'events':'history'\n",
    "    \n",
    "    \n",
    "    \n",
    "}\n",
    "\n",
    "\n",
    "\"\"\"\n",
    "Valid intervals: [1m, 2m, 5m, 15m, 30m, 60m, 90m, 1h, 1d, 5d, 1wk, 1mo, 3mo]'\n",
    "\"\"\"\n",
    "\n",
    "# Get\n",
    "r = requests.get(url.format(stock), params = params)\n",
    "# Format\n",
    "csv = StringIO(r.text)\n",
    "# DataFrame\n",
    "df = pd.read_csv(csv)\n",
    "# To csv\n",
    "df.to_csv(monthly_dir + stock + '.csv')"
   ]
  },
  {
   "cell_type": "markdown",
   "id": "rocky-costs",
   "metadata": {},
   "source": [
    "### Load all ETFs listed on TSX"
   ]
  },
  {
   "cell_type": "code",
   "execution_count": 3,
   "id": "standing-looking",
   "metadata": {},
   "outputs": [
    {
     "data": {
      "text/html": [
       "<div>\n",
       "<style scoped>\n",
       "    .dataframe tbody tr th:only-of-type {\n",
       "        vertical-align: middle;\n",
       "    }\n",
       "\n",
       "    .dataframe tbody tr th {\n",
       "        vertical-align: top;\n",
       "    }\n",
       "\n",
       "    .dataframe thead th {\n",
       "        text-align: right;\n",
       "    }\n",
       "</style>\n",
       "<table border=\"1\" class=\"dataframe\">\n",
       "  <thead>\n",
       "    <tr style=\"text-align: right;\">\n",
       "      <th></th>\n",
       "      <th>Ticker</th>\n",
       "      <th>Parsed</th>\n",
       "    </tr>\n",
       "  </thead>\n",
       "  <tbody>\n",
       "    <tr>\n",
       "      <th>0</th>\n",
       "      <td>HDGE</td>\n",
       "      <td>0</td>\n",
       "    </tr>\n",
       "    <tr>\n",
       "      <th>1</th>\n",
       "      <td>ARB</td>\n",
       "      <td>0</td>\n",
       "    </tr>\n",
       "    <tr>\n",
       "      <th>2</th>\n",
       "      <td>ATSX</td>\n",
       "      <td>0</td>\n",
       "    </tr>\n",
       "    <tr>\n",
       "      <th>3</th>\n",
       "      <td>ONEC</td>\n",
       "      <td>0</td>\n",
       "    </tr>\n",
       "    <tr>\n",
       "      <th>4</th>\n",
       "      <td>ALFA</td>\n",
       "      <td>0</td>\n",
       "    </tr>\n",
       "    <tr>\n",
       "      <th>...</th>\n",
       "      <td>...</td>\n",
       "      <td>...</td>\n",
       "    </tr>\n",
       "    <tr>\n",
       "      <th>810</th>\n",
       "      <td>VGH</td>\n",
       "      <td>0</td>\n",
       "    </tr>\n",
       "    <tr>\n",
       "      <th>811</th>\n",
       "      <td>VUN</td>\n",
       "      <td>0</td>\n",
       "    </tr>\n",
       "    <tr>\n",
       "      <th>812</th>\n",
       "      <td>VUS</td>\n",
       "      <td>0</td>\n",
       "    </tr>\n",
       "    <tr>\n",
       "      <th>813</th>\n",
       "      <td>WSRD</td>\n",
       "      <td>0</td>\n",
       "    </tr>\n",
       "    <tr>\n",
       "      <th>814</th>\n",
       "      <td>WSRI</td>\n",
       "      <td>0</td>\n",
       "    </tr>\n",
       "  </tbody>\n",
       "</table>\n",
       "<p>815 rows × 2 columns</p>\n",
       "</div>"
      ],
      "text/plain": [
       "    Ticker  Parsed\n",
       "0     HDGE       0\n",
       "1      ARB       0\n",
       "2     ATSX       0\n",
       "3     ONEC       0\n",
       "4     ALFA       0\n",
       "..     ...     ...\n",
       "810    VGH       0\n",
       "811    VUN       0\n",
       "812    VUS       0\n",
       "813   WSRD       0\n",
       "814   WSRI       0\n",
       "\n",
       "[815 rows x 2 columns]"
      ]
     },
     "execution_count": 3,
     "metadata": {},
     "output_type": "execute_result"
    }
   ],
   "source": [
    "etfs = pd.read_csv(\"TSX ETF TICKERS.csv\")\n",
    "#etfs[\"Parsed\"] = 0\n",
    "etfs"
   ]
  },
  {
   "cell_type": "markdown",
   "id": "outstanding-envelope",
   "metadata": {},
   "source": [
    "#### Loop through all ETFs and download monthly data"
   ]
  },
  {
   "cell_type": "code",
   "execution_count": null,
   "id": "arranged-health",
   "metadata": {
    "scrolled": true
   },
   "outputs": [],
   "source": [
    "### Todo: for x in INDEX of unparsed_etfs loop through etfs\n",
    "\n",
    "unparsed_etfs = etfs.loc[etfs[\"Parsed\"] < 1]\n",
    "\n",
    "for i in unparsed_etfs.index:\n",
    "    \n",
    "    try: \n",
    "        ticker = etfs.iloc[i][0] # get the ticker from original list\n",
    "        \n",
    "\n",
    "        stock = f'{ticker}.TO'\n",
    "        url = \"https://query1.finance.yahoo.com/v7/finance/download/{}\"\n",
    "\n",
    "\n",
    "        params = {\n",
    "\n",
    "            'range': 'max', \n",
    "            'interval':'1mo',\n",
    "            'events':'history'\n",
    "        }\n",
    "\n",
    "\n",
    "        # Get\n",
    "        r = requests.get(url.format(stock), params = params)\n",
    "        # Format\n",
    "        print(r.response)\n",
    "        csv = StringIO(r.text)\n",
    "        # DataFrame\n",
    "        df = pd.read_csv(csv)\n",
    "        # To csv\n",
    "        df.to_csv(monthly_dir + stock + '.csv')\n",
    "        print(\"got\",ticker)\n",
    "        \n",
    "        # Record Parsed\n",
    "        etfs.at[i, \"Parsed\"] = 1\n",
    "        \n",
    "    except:\n",
    "        continue"
   ]
  },
  {
   "cell_type": "code",
   "execution_count": null,
   "id": "annual-cross",
   "metadata": {},
   "outputs": [],
   "source": [
    "etfs.to_csv(\"TSX ETF TICKERS.csv\", index=False)"
   ]
  },
  {
   "cell_type": "code",
   "execution_count": null,
   "id": "spectacular-affairs",
   "metadata": {},
   "outputs": [],
   "source": [
    "etfs"
   ]
  },
  {
   "cell_type": "code",
   "execution_count": null,
   "id": "artificial-relief",
   "metadata": {},
   "outputs": [],
   "source": []
  }
 ],
 "metadata": {
  "kernelspec": {
   "display_name": "Python 3",
   "language": "python",
   "name": "python3"
  },
  "language_info": {
   "codemirror_mode": {
    "name": "ipython",
    "version": 3
   },
   "file_extension": ".py",
   "mimetype": "text/x-python",
   "name": "python",
   "nbconvert_exporter": "python",
   "pygments_lexer": "ipython3",
   "version": "3.8.8"
  }
 },
 "nbformat": 4,
 "nbformat_minor": 5
}
