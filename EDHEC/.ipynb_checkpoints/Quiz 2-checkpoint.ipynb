{
 "cells": [
  {
   "cell_type": "code",
   "execution_count": 10,
   "id": "juvenile-poison",
   "metadata": {},
   "outputs": [
    {
     "name": "stdout",
     "output_type": "stream",
     "text": [
      "The autoreload extension is already loaded. To reload it, use:\n",
      "  %reload_ext autoreload\n"
     ]
    }
   ],
   "source": [
    "import edhec_risk_kit as erk\n",
    "import pandas as pd\n",
    "import numpy as np\n",
    "from scipy.optimize import minimize\n",
    "import matplotlib as mpl\n",
    "mpl.rcParams['figure.dpi'] = 180\n",
    "mpl.rcParams['figure.figsize'] = (9, 4)\n",
    "%load_ext autoreload\n",
    "%autoreload 2\n",
    "%config Completer.use_jedi = False"
   ]
  },
  {
   "cell_type": "code",
   "execution_count": 23,
   "id": "limiting-intelligence",
   "metadata": {},
   "outputs": [],
   "source": [
    "ind = erk.get_hfi_returns()[\"2000\":]\n",
    "er = erk.annualize_rets(ind[\"2000\":], 12)\n",
    "cov = ind[\"2000\":].cov()"
   ]
  },
  {
   "cell_type": "code",
   "execution_count": 27,
   "id": "becoming-consumer",
   "metadata": {},
   "outputs": [
    {
     "data": {
      "text/plain": [
       "0.031430176939280456"
      ]
     },
     "execution_count": 27,
     "metadata": {},
     "output_type": "execute_result"
    }
   ],
   "source": [
    "# Q1\n",
    "erk.var_gaussian(ind[\"Distressed Securities\"],level=1)"
   ]
  },
  {
   "cell_type": "code",
   "execution_count": 28,
   "id": "broadband-rental",
   "metadata": {},
   "outputs": [
    {
     "data": {
      "text/plain": [
       "0.04966909110627921"
      ]
     },
     "execution_count": 28,
     "metadata": {},
     "output_type": "execute_result"
    }
   ],
   "source": [
    "# Q2\n",
    "erk.var_gaussian(ind[\"Distressed Securities\"],level=1, modified=True)"
   ]
  },
  {
   "cell_type": "code",
   "execution_count": 29,
   "id": "structured-education",
   "metadata": {},
   "outputs": [
    {
     "data": {
      "text/plain": [
       "0.042642"
      ]
     },
     "execution_count": 29,
     "metadata": {},
     "output_type": "execute_result"
    }
   ],
   "source": [
    "# Q3\n",
    "erk.var_historic(ind[\"Distressed Securities\"],level=1)"
   ]
  },
  {
   "cell_type": "code",
   "execution_count": 53,
   "id": "intended-delay",
   "metadata": {},
   "outputs": [],
   "source": [
    "# Q4\n",
    "ind = erk.get_ind_returns()[\"2013\":\"2017\"]\n",
    "er = erk.annualize_rets(ind,12)\n",
    "cov = ind.cov()"
   ]
  },
  {
   "cell_type": "code",
   "execution_count": 62,
   "id": "honest-western",
   "metadata": {},
   "outputs": [
    {
     "name": "stdout",
     "output_type": "stream",
     "text": [
      "[0.25 0.25 0.25 0.25]\n"
     ]
    },
    {
     "data": {
      "image/png": "[encoded data removed]",
      "text/plain": [
       "<Figure size 432x288 with 1 Axes>"
      ]
     },
     "metadata": {
      "needs_background": "light"
     },
     "output_type": "display_data"
    }
   ],
   "source": [
    "l = [\"Books\",\"Steel\",\"Oil\",\"Mines\"]\n",
    "erk.plot_ef(25,er[l],cov.loc[l,l])\n",
    "\n",
    "n = len(er[l])\n",
    "w_ew = np.repeat(1/n, n)\n",
    "print(w_ew)\n",
    "#r_ew = portfolio_returns(w_ew, er[l])\n",
    "#vol_ew = portfolio_vol(w_ew, cov.loc[l,l])"
   ]
  },
  {
   "cell_type": "code",
   "execution_count": 63,
   "id": "driving-charter",
   "metadata": {},
   "outputs": [
    {
     "data": {
      "text/plain": [
       "array([2.48759346e-15, 1.00000000e+00, 1.77809156e-16, 0.00000000e+00])"
      ]
     },
     "execution_count": 63,
     "metadata": {},
     "output_type": "execute_result"
    }
   ],
   "source": [
    "# Q5-Q7\n",
    "#print(er[l])\n",
    "erk.msr(0.10,er[l],cov.loc[l,l])"
   ]
  },
  {
   "cell_type": "code",
   "execution_count": 64,
   "id": "afraid-boards",
   "metadata": {},
   "outputs": [
    {
     "data": {
      "text/plain": [
       "array([0.47702485, 0.        , 0.43411204, 0.08886311])"
      ]
     },
     "execution_count": 64,
     "metadata": {},
     "output_type": "execute_result"
    }
   ],
   "source": [
    "# Q8\n",
    "erk.gmv(cov.loc[l,l])"
   ]
  },
  {
   "cell_type": "code",
   "execution_count": 65,
   "id": "verified-desperate",
   "metadata": {},
   "outputs": [
    {
     "data": {
      "text/plain": [
       "0.0634623074722072"
      ]
     },
     "execution_count": 65,
     "metadata": {},
     "output_type": "execute_result"
    }
   ],
   "source": [
    "# Q9\n",
    "w_msr = erk.msr(0.10,er[l],cov.loc[l,l])\n",
    "\n",
    "cov_2018 = erk.get_ind_returns()[\"2018\"].cov()\n",
    "vol_2018 = erk.portfolio_vol(w_msr,cov_2018.loc[l,l])\n",
    "vol_2018\n",
    "\n",
    "#wrong"
   ]
  },
  {
   "cell_type": "code",
   "execution_count": 66,
   "id": "incorporated-mount",
   "metadata": {},
   "outputs": [
    {
     "data": {
      "text/plain": [
       "0.05477245397965808"
      ]
     },
     "execution_count": 66,
     "metadata": {},
     "output_type": "execute_result"
    }
   ],
   "source": [
    "# Q10\n",
    "w_gmv = erk.gmv(cov.loc[l,l])\n",
    "\n",
    "cov_2018 = erk.get_ind_returns()[\"2018\"].cov()\n",
    "vol_2018 = erk.portfolio_vol(w_gmv,cov_2018.loc[l,l])\n",
    "vol_2018\n",
    "\n",
    "#wrong"
   ]
  },
  {
   "cell_type": "code",
   "execution_count": null,
   "id": "ruled-rapid",
   "metadata": {},
   "outputs": [],
   "source": []
  }
 ],
 "metadata": {
  "kernelspec": {
   "display_name": "Python [conda env:workenv] *",
   "language": "python",
   "name": "conda-env-workenv-py"
  },
  "language_info": {
   "codemirror_mode": {
    "name": "ipython",
    "version": 3
   },
   "file_extension": ".py",
   "mimetype": "text/x-python",
   "name": "python",
   "nbconvert_exporter": "python",
   "pygments_lexer": "ipython3",
   "version": "3.8.8"
  }
 },
 "nbformat": 4,
 "nbformat_minor": 5
}
