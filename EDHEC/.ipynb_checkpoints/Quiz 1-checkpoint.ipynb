{
 "cells": [
  {
   "cell_type": "code",
   "execution_count": 42,
   "id": "adjustable-archives",
   "metadata": {},
   "outputs": [
    {
     "name": "stdout",
     "output_type": "stream",
     "text": [
      "The autoreload extension is already loaded. To reload it, use:\n",
      "  %reload_ext autoreload\n"
     ]
    }
   ],
   "source": [
    "import edhec_risk_kit as erk\n",
    "import pandas as pd\n",
    "import numpy as np\n",
    "from scipy.stats import norm\n",
    "import matplotlib as mpl\n",
    "mpl.rcParams['figure.dpi'] = 90\n",
    "%load_ext autoreload\n",
    "%autoreload 2\n",
    "%config Completer.use_jedi = False"
   ]
  },
  {
   "cell_type": "code",
   "execution_count": 43,
   "id": "artistic-shore",
   "metadata": {},
   "outputs": [],
   "source": [
    "returns  = pd.read_csv(\"data/Portfolios_Formed_on_ME_monthly_EW.csv\",\n",
    "            header=0,\n",
    "            index_col=0,\n",
    "            parse_dates=True,\n",
    "            na_values = -99.99)"
   ]
  },
  {
   "cell_type": "code",
   "execution_count": 44,
   "id": "julian-indianapolis",
   "metadata": {},
   "outputs": [],
   "source": [
    "returns = returns[['Lo 20', 'Hi 20']]\n",
    "returns = returns/100"
   ]
  },
  {
   "cell_type": "code",
   "execution_count": 45,
   "id": "alternate-thompson",
   "metadata": {},
   "outputs": [
    {
     "data": {
      "text/plain": [
       "Lo 20    0.151977\n",
       "Hi 20    0.098490\n",
       "dtype: float64"
      ]
     },
     "execution_count": 45,
     "metadata": {},
     "output_type": "execute_result"
    }
   ],
   "source": [
    "n_months = len(returns)\n",
    "annualized_return = (returns + 1).prod()**(12/n_months) -1 #equivalent!\n",
    "annualized_return"
   ]
  },
  {
   "cell_type": "code",
   "execution_count": 46,
   "id": "french-heavy",
   "metadata": {},
   "outputs": [
    {
     "data": {
      "text/plain": [
       "Lo 20    0.336701\n",
       "Hi 20    0.195116\n",
       "dtype: float64"
      ]
     },
     "execution_count": 46,
     "metadata": {},
     "output_type": "execute_result"
    }
   ],
   "source": [
    "returns.std()*np.sqrt(12)"
   ]
  },
  {
   "cell_type": "code",
   "execution_count": 47,
   "id": "diverse-bubble",
   "metadata": {},
   "outputs": [],
   "source": [
    "returns.index = pd.to_datetime(returns.index, format = '%Y%m')\n",
    "returns.index = returns.index.to_period('m')\n",
    "returns = returns[\"1999\":\"2015\"]"
   ]
  },
  {
   "cell_type": "code",
   "execution_count": 48,
   "id": "injured-manitoba",
   "metadata": {},
   "outputs": [
    {
     "data": {
      "text/plain": [
       "Lo 20    0.114426\n",
       "Hi 20    0.062865\n",
       "dtype: float64"
      ]
     },
     "execution_count": 48,
     "metadata": {},
     "output_type": "execute_result"
    }
   ],
   "source": [
    "n_months = len(returns)\n",
    "annualized_return = (returns + 1).prod()**(12/n_months) -1 #equivalent!\n",
    "annualized_return"
   ]
  },
  {
   "cell_type": "code",
   "execution_count": 50,
   "id": "automated-pittsburgh",
   "metadata": {},
   "outputs": [
    {
     "data": {
      "text/plain": [
       "Lo 20    0.228894\n",
       "Hi 20    0.172713\n",
       "dtype: float64"
      ]
     },
     "execution_count": 50,
     "metadata": {},
     "output_type": "execute_result"
    }
   ],
   "source": [
    "annualized_vol = returns.std()*np.sqrt(12)\n",
    "annualized_vol"
   ]
  },
  {
   "cell_type": "code",
   "execution_count": 57,
   "id": "controlled-stuff",
   "metadata": {},
   "outputs": [
    {
     "data": {
      "text/plain": [
       "-0.6248092431236988"
      ]
     },
     "execution_count": 57,
     "metadata": {},
     "output_type": "execute_result"
    }
   ],
   "source": [
    "erk.drawdown(returns['Lo 20'])['Drawdown'].min()"
   ]
  },
  {
   "cell_type": "code",
   "execution_count": 58,
   "id": "decimal-brown",
   "metadata": {},
   "outputs": [
    {
     "data": {
      "text/plain": [
       "Period('2009-02', 'M')"
      ]
     },
     "execution_count": 58,
     "metadata": {},
     "output_type": "execute_result"
    }
   ],
   "source": [
    "erk.drawdown(returns['Lo 20'])['Drawdown'].idxmin()"
   ]
  },
  {
   "cell_type": "code",
   "execution_count": 60,
   "id": "agreed-explorer",
   "metadata": {},
   "outputs": [
    {
     "data": {
      "text/plain": [
       "-0.5527349978713653"
      ]
     },
     "execution_count": 60,
     "metadata": {},
     "output_type": "execute_result"
    }
   ],
   "source": [
    "erk.drawdown(returns['Hi 20'])['Drawdown'].min()"
   ]
  },
  {
   "cell_type": "code",
   "execution_count": 61,
   "id": "confirmed-compiler",
   "metadata": {},
   "outputs": [
    {
     "data": {
      "text/plain": [
       "Period('2009-02', 'M')"
      ]
     },
     "execution_count": 61,
     "metadata": {},
     "output_type": "execute_result"
    }
   ],
   "source": [
    "erk.drawdown(returns['Hi 20'])['Drawdown'].idxmin()"
   ]
  },
  {
   "cell_type": "code",
   "execution_count": 76,
   "id": "mineral-tenant",
   "metadata": {},
   "outputs": [],
   "source": [
    "hfi = erk.get_hfi_returns()"
   ]
  },
  {
   "cell_type": "code",
   "execution_count": 77,
   "id": "convenient-killing",
   "metadata": {},
   "outputs": [
    {
     "data": {
      "text/plain": [
       "'Short Selling'"
      ]
     },
     "execution_count": 77,
     "metadata": {},
     "output_type": "execute_result"
    }
   ],
   "source": [
    "hfi = hfi[\"2009\":]\n",
    "erk.semideviation(hfi).idxmax()"
   ]
  },
  {
   "cell_type": "code",
   "execution_count": 78,
   "id": "ambient-crisis",
   "metadata": {},
   "outputs": [
    {
     "data": {
      "text/plain": [
       "'Fixed Income Arbitrage'"
      ]
     },
     "execution_count": 78,
     "metadata": {},
     "output_type": "execute_result"
    }
   ],
   "source": [
    "erk.semideviation(hfi).idxmin()"
   ]
  },
  {
   "cell_type": "code",
   "execution_count": 79,
   "id": "closed-zoning",
   "metadata": {},
   "outputs": [
    {
     "data": {
      "text/plain": [
       "'Equity Market Neutral'"
      ]
     },
     "execution_count": 79,
     "metadata": {},
     "output_type": "execute_result"
    }
   ],
   "source": [
    "erk.skewness(hfi).idxmin()"
   ]
  },
  {
   "cell_type": "code",
   "execution_count": 81,
   "id": "smooth-accounting",
   "metadata": {},
   "outputs": [
    {
     "data": {
      "text/plain": [
       "'Fixed Income Arbitrage'"
      ]
     },
     "execution_count": 81,
     "metadata": {},
     "output_type": "execute_result"
    }
   ],
   "source": [
    "hfi = erk.get_hfi_returns()\n",
    "erk.kurtosis(hfi).idxmax()"
   ]
  },
  {
   "cell_type": "code",
   "execution_count": null,
   "id": "disabled-withdrawal",
   "metadata": {},
   "outputs": [],
   "source": []
  }
 ],
 "metadata": {
  "kernelspec": {
   "display_name": "Python [conda env:workenv] *",
   "language": "python",
   "name": "conda-env-workenv-py"
  },
  "language_info": {
   "codemirror_mode": {
    "name": "ipython",
    "version": 3
   },
   "file_extension": ".py",
   "mimetype": "text/x-python",
   "name": "python",
   "nbconvert_exporter": "python",
   "pygments_lexer": "ipython3",
   "version": "3.8.8"
  }
 },
 "nbformat": 4,
 "nbformat_minor": 5
}
